{
 "cells": [
  {
   "cell_type": "markdown",
   "metadata": {},
   "source": [
    "# Introduction\n",
    "\n",
    "This notebook is used to test and illustrate the v0.1 of the DSGE model library.\n",
    "\n",
    "At this stage, the functionalities of the library are limited. Namely two important features are missing for economic modeling purpose:\n",
    "* A lag operator to declare variables such as $x_t = f(x_{t-1})$, which prohibits modeling time dependant variables and shocks\n",
    "* Indexing so a variable that has been defined can be reused multiple times in different contexts\n",
    "\n",
    "Therefore, I provide here a very limited example, mostly desgined to test the parser.\n",
    "\n",
    "# The Model - A Centralized Economy\n",
    "\n",
    "## Constrained Opitmization\n",
    "\n",
    "We assume that the economy is administred by a central planner whose aim is to maximize the utility of households. We use a representative household for the optimization of utility. In addition, we assume that the quantity of labor is fixed at each period.\n",
    "\n",
    "Our economy is constrained by the national income identity, change in stock of capital and its production functions:\n",
    "$$\n",
    "\\begin{cases}\n",
    "y_t = c_t + i_t \\\\\n",
    "\\Delta k_{t+1} = i_t - \\delta k_t \\\\\n",
    "y_t = F(k_t)\n",
    "\\end{cases}\n",
    "$$\n",
    "\n",
    "We can rewrite these equations as a single constraint on the economy:\n",
    "$$ F(k_t) = c_t + \\Delta k_{t+1} + \\delta k_t $$\n",
    "\n",
    "Therefore, by denoting the utility function by $U(c_t)$ and the discount factor $\\beta = \\frac{1}{1+\\theta}$ where $\\theta$ is the discount factor of the representative household (assumed constant), the central planner aims at maximizing:\n",
    "\n",
    "$$\n",
    "\\begin{aligned}\n",
    "& \\underset{\\{c_{t+s},k_{t+s}|s\\in N\\}}{\\text{min}}\n",
    "& & V_t = \\sum_{s=0}^\\infty{\\beta^sU(c_{t+s})} \\\\\n",
    "& \\text{s.t.}\n",
    "& & F(k_t) = c_t + \\Delta k_{t+1} + \\delta k_t\n",
    "\\end{aligned}\n",
    "$$\n",
    "\n",
    "The lagrangian for this optimization yields:\n",
    "$$\n",
    "\\newcommand{\\lagr}{\\mathcal{L}}\n",
    "\\lagr_t = \\sum_{s=0}^\\infty[\\beta^sU(c_{t+s})+\\lambda_{t+s}(F(k_{t+s}) - c_{t+s} - k_{t+s+1}+(1-\\delta)k_{t+s})]\n",
    "$$\n",
    "\n",
    "The derivation for $s\\in N$ yields:\n",
    "$$\n",
    "\\begin{cases}\n",
    "\\frac{\\partial\\lagr_t}{\\partial c_{t+s}} = \\beta^sU'(c_{t+s})-\\lambda_{t+s} \\\\\n",
    "\\frac{\\partial\\lagr_t}{\\partial k_{t+s}} = \\lambda_{t+s}(F'(k_{t+s})+1-\\delta)-\\lambda_{t+s-1}\n",
    "\\end{cases}\n",
    "$$\n",
    "\n",
    "Combining these equations gives us the Euler equation:\n",
    "$$\n",
    "\\beta\\frac{U'(c_{t+1})}{U'(c_t)}(F'(k_{t+1})+1-\\delta)=1\n",
    "$$"
   ]
  },
  {
   "cell_type": "markdown",
   "metadata": {},
   "source": [
    "## Application: Isoelastic Utility and Cobb-Douglas Production Function\n",
    "\n",
    "For the remainder, we assume that the utility function follows the isoelastic utility function and the production function is Cobb-Douglas:\n",
    "$$\n",
    "\\begin{cases}\n",
    "U(c) = \\frac{c^{1-\\sigma}-1}{1-\\sigma} \\\\\n",
    "F(k) = A k^\\alpha\n",
    "\\end{cases}\n",
    "$$\n",
    "\n",
    "At equilibrium, $c_t = c_{t+1} = c^*$ and $k_t = k_{t+1} = k^*$, therefore the Euler equation can be rewritten as:\n",
    "$$\n",
    "A\\alpha {k^*}^{\\alpha-1}+1-\\delta = \\frac{1}{\\beta}=1+\\theta\n",
    "$$\n",
    "\n",
    "Rearranging the terms gives:\n",
    "$$\n",
    "{k^*}={\\left(\\frac{A\\alpha}{\\delta+\\theta}\\right)}^{\\frac{1}{1-\\alpha}}\n",
    "$$\n",
    "\n",
    "And using this result in $c^* = F(k^*)-\\delta k^*$ yields:\n",
    "$$\n",
    "c^* = k^*\\left(\\frac{\\delta(1-\\alpha)+\\theta}{\\alpha}\\right)\n",
    "$$\n",
    "\n",
    "We will now simulate the following system using the library.\n",
    "$$\n",
    "\\begin{cases}\n",
    "k = {\\left(\\frac{A\\alpha}{\\delta+\\theta}\\right)}^{\\frac{1}{1-\\alpha}} \\\\\n",
    "c = k\\left(\\frac{\\delta(1-\\alpha)+\\theta}{\\alpha}\\right) \\\\\n",
    "y = c + \\delta k_t\n",
    "\\end{cases}\n",
    "$$\n",
    "\n",
    "In addition, we will add $F=A k^\\alpha$, which should equal $y$.\n"
   ]
  },
  {
   "cell_type": "markdown",
   "metadata": {},
   "source": [
    "# Implementation of the Model\n",
    "\n",
    "## Instantiation of the Model\n",
    "\n",
    "The library provides a class named Econ_model which allows parsing a system, reading parameter values and running the model. With the current version (v0.1), an Econ_model class needs to be instantiated with file path to the system and variables. This will be changed in future versions."
   ]
  },
  {
   "cell_type": "code",
   "execution_count": 15,
   "metadata": {},
   "outputs": [],
   "source": [
    "from DSGE.Econ_model import Econ_model\n",
    "\n",
    "from os import getcwd\n",
    "from os.path import join\n",
    "\n",
    "import pandas as pd"
   ]
  },
  {
   "cell_type": "markdown",
   "metadata": {},
   "source": [
    "The description of the system is a plain text file, in which each line should have the following form:\n",
    "\n",
    ">variable name (alphanumeric) = function of variables and parameters\n",
    "\n",
    "for example:\n",
    "\n",
    "> Y = A*X + B\n",
    "\n",
    "The Econ_model instance will then parse each line before running the model. In the case of the model described above, the content of the file is:"
   ]
  },
  {
   "cell_type": "code",
   "execution_count": 34,
   "metadata": {},
   "outputs": [
    {
     "name": "stdout",
     "output_type": "stream",
     "text": [
      "k = ((A*alpha)/(delta+theta))**(1/(1-alpha))\n",
      "\n",
      "c = k*(delta*(1-alpha)+theta)/alpha\n",
      "\n",
      "y = c + delta * k\n",
      "\n",
      "F = A * k ** alpha\n",
      "\n"
     ]
    }
   ],
   "source": [
    "var_file = join(getcwd(),'models/V0.1/variables_v0.1')\n",
    "with open(var_file,'r') as f:\n",
    "    for line in f:\n",
    "        print(line)"
   ]
  },
  {
   "cell_type": "markdown",
   "metadata": {},
   "source": [
    "The file containing the parameters is a simple json. Currently, the Econ_model instance does not check whether all parameters are present or not.\n",
    "\n",
    "The required parameters for our model are $A$, $\\alpha$, $\\theta$ and $\\delta$. I assigned them a value for the purpose of the example as described below:"
   ]
  },
  {
   "cell_type": "code",
   "execution_count": 39,
   "metadata": {},
   "outputs": [
    {
     "name": "stdout",
     "output_type": "stream",
     "text": [
      "k = ((A*alpha)/(delta+theta))**(1/(1-alpha))\n",
      "\n",
      "c = k*(delta*(1-alpha)+theta)/alpha\n",
      "\n",
      "y = c + delta * k\n",
      "\n",
      "F = A * k ** alpha\n",
      "\n"
     ]
    }
   ],
   "source": [
    "param_file = join(getcwd(),'models/V0.1/parameters_v0.1')\n",
    "with open(var_file,'r') as f:\n",
    "    for line in f:\n",
    "        print(line)"
   ]
  },
  {
   "cell_type": "markdown",
   "metadata": {},
   "source": [
    "With these files, we can now instantiate our model. An extra argument required is the name of the model, 'Model V0.1' in this case.\n",
    "\n",
    "We can run the model with the following line:\n",
    "\n",
    "> model(1,1)\n",
    "\n",
    "The first parameter refers to the number of simulations while the second is the number of iteration. Since the model is entirely deterministic and assumes a long-term equilibrium, only one iteration is required."
   ]
  },
  {
   "cell_type": "code",
   "execution_count": 40,
   "metadata": {},
   "outputs": [],
   "source": [
    "# Instanciation of the model\n",
    "model = Econ_model(\n",
    "    'Model V0.1', # Name of the model\n",
    "    var_file,     # File containing the definitions of the variables\n",
    "    param_file    # File containing the value of each parameters\n",
    ")\n",
    "\n",
    "# Running the simulation\n",
    "model(\n",
    "    1,    # Number of simulations\n",
    "    1     # Number of iterations\n",
    ")"
   ]
  },
  {
   "cell_type": "markdown",
   "metadata": {},
   "source": [
    "We can now retrive the results stored in the 'results' attribute of the Econ_model instance.\n",
    "\n",
    "Currently, 'results' stores all variables and parameters for each simulation and each iterations in a dictionary. This will be changed later to allow more flexibility and improve the performance of the library.\n",
    "\n",
    "We display below the simulation results:"
   ]
  },
  {
   "cell_type": "code",
   "execution_count": 41,
   "metadata": {},
   "outputs": [
    {
     "data": {
      "text/html": [
       "<div>\n",
       "<style scoped>\n",
       "    .dataframe tbody tr th:only-of-type {\n",
       "        vertical-align: middle;\n",
       "    }\n",
       "\n",
       "    .dataframe tbody tr th {\n",
       "        vertical-align: top;\n",
       "    }\n",
       "\n",
       "    .dataframe thead th {\n",
       "        text-align: right;\n",
       "    }\n",
       "</style>\n",
       "<table border=\"1\" class=\"dataframe\">\n",
       "  <thead>\n",
       "    <tr style=\"text-align: right;\">\n",
       "      <th></th>\n",
       "      <th>theta</th>\n",
       "      <th>alpha</th>\n",
       "      <th>A</th>\n",
       "      <th>delta</th>\n",
       "      <th>k</th>\n",
       "      <th>c</th>\n",
       "      <th>y</th>\n",
       "      <th>F</th>\n",
       "    </tr>\n",
       "  </thead>\n",
       "  <tbody>\n",
       "    <tr>\n",
       "      <th>results</th>\n",
       "      <td>0.05</td>\n",
       "      <td>0.3</td>\n",
       "      <td>1</td>\n",
       "      <td>0.12</td>\n",
       "      <td>2.25107</td>\n",
       "      <td>1.005478</td>\n",
       "      <td>1.275606</td>\n",
       "      <td>1.275606</td>\n",
       "    </tr>\n",
       "  </tbody>\n",
       "</table>\n",
       "</div>"
      ],
      "text/plain": [
       "         theta  alpha  A  delta        k         c         y         F\n",
       "results   0.05    0.3  1   0.12  2.25107  1.005478  1.275606  1.275606"
      ]
     },
     "execution_count": 41,
     "metadata": {},
     "output_type": "execute_result"
    }
   ],
   "source": [
    "tmp_results = {n:val[0] for n,val in model.results.items()}\n",
    "pd.DataFrame(index=['results'],data=tmp_results)"
   ]
  },
  {
   "cell_type": "markdown",
   "metadata": {},
   "source": [
    "We see in the table above the values that were attributed in the parameters file for $A$, $\\alpha$, $\\theta$ and $\\delta$. The endogeneous variables $k$, $c$, $y$ and $F$ are also displayed.\n",
    "\n",
    "As expected, we have the equality $y=F$."
   ]
  },
  {
   "cell_type": "markdown",
   "metadata": {},
   "source": [
    "# Conclusion\n",
    "\n",
    "This notebook demonstrates the sound functioning of the Econ_model class. The library currently has limited capabilities, but future versions should make it more functional.\n",
    "\n",
    "Prospective steps are:\n",
    "* v0.2: Addition of the lag operator\n",
    "* v0.3: Addition of an indexing system\n",
    "* v1.0: Improvements to obtain a fully functional version"
   ]
  }
 ],
 "metadata": {
  "kernelspec": {
   "display_name": "Python 3",
   "language": "python",
   "name": "python3"
  },
  "language_info": {
   "codemirror_mode": {
    "name": "ipython",
    "version": 3
   },
   "file_extension": ".py",
   "mimetype": "text/x-python",
   "name": "python",
   "nbconvert_exporter": "python",
   "pygments_lexer": "ipython3",
   "version": "3.7.3"
  }
 },
 "nbformat": 4,
 "nbformat_minor": 2
}
